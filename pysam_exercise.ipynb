{
 "cells": [
  {
   "cell_type": "code",
   "execution_count": 1,
   "metadata": {},
   "outputs": [
    {
     "name": "stdout",
     "output_type": "stream",
     "text": [
      "First read:\n",
      " C0HVYACXX120402:7:1207:5722:57044\t1187\t20\t9483248\t27\t76M\t20\t9483381\t76\tTTTTCAAACAGTATCTATGCCTGCCAAATGTGAACATATAAAAAAAAACCAGAATGTGCCATTCTGATTTAAACTG\tarray('B', [28, 28, 27, 29, 31, 30, 31, 31, 29, 31, 35, 30, 29, 31, 34, 30, 29, 23, 41, 32, 20, 30, 29, 34, 34, 29, 30, 31, 30, 30, 30, 33, 33, 26, 39, 12, 25, 19, 32, 30, 35, 28, 35, 33, 23, 33, 35, 36, 30, 38, 33, 41, 34, 35, 31, 33, 23, 30, 30, 36, 27, 32, 29, 34, 35, 41, 33, 31, 33, 29, 32, 32, 31, 31, 31, 34])\t[('XA', 'GL000217.1,-110754,76M,1;'), ('BD', 'NNNNNNNNNNNNNNNNNNNNNNNNNNNNNNNNNNNNNNNNNNNNNNNNNNNNNNNNNNNNNNNNNNNNNNNNNNNN'), ('MD', '76'), ('RG', '1'), ('BI', 'NNNNNNNNNNNNNNNNNNNNNNNNNNNNNNNNNNNNNNNNNNNNNNNNNNNNNNNNNNNNNNNNNNNNNNNNNNNN'), ('NM', 0), ('MQ', 27), ('AS', 76), ('XS', 71)] \n",
      "\n",
      "First read's flag:\n",
      " 0b10010100011\n"
     ]
    }
   ],
   "source": [
    "import pysam\n",
    "\n",
    "#create AlignmentFile object from given file\n",
    "alignmentFile = pysam.AlignmentFile(\"/sbgenomics/project-files/merged-tumor.bam\", \"rb\")\n",
    "\n",
    "#fetch all reads\n",
    "reads = alignmentFile.fetch(until_eof=True)\n",
    "#firstRead is of type AlignedSegment\n",
    "firstRead = list(reads)[0]\n",
    "\n",
    "print(\"First read:\\n\", firstRead, \"\\n\")\n",
    "\n",
    "print(\"First read's flag:\\n\", bin(firstRead.flag))"
   ]
  },
  {
   "cell_type": "code",
   "execution_count": 2,
   "metadata": {},
   "outputs": [
    {
     "name": "stdout",
     "output_type": "stream",
     "text": [
      "Number of unmapped reads:  17765\n",
      "Total number of reads:  2921629\n",
      "Number of reads with mapping quality 0:  126628\n",
      "Average mapping quality for all reads:  55.91379158681681\n",
      "Average mapping quality with filtering:  58.446975510921106\n"
     ]
    }
   ],
   "source": [
    "num_mapping_quality_zero = 0\n",
    "sum_mapping_quality = 0\n",
    "num_unmapped = 0\n",
    "\n",
    "for read in pysam.AlignmentFile(\"/sbgenomics/project-files/merged-tumor.bam\", \"rb\"):\n",
    "    if read.mapping_quality == 0:\n",
    "        num_mapping_quality_zero += 1\n",
    "    sum_mapping_quality += read.mapping_quality\n",
    "    if read.is_unmapped == 1:\n",
    "        num_unmapped += 1\n",
    "        \n",
    "print(\"Number of unmapped reads: \", num_unmapped)\n",
    "\n",
    "print(\"Total number of reads: \", alignmentFile.count())\n",
    "\n",
    "print(\"Number of reads with mapping quality 0: \", num_mapping_quality_zero)\n",
    "\n",
    "print(\"Average mapping quality for all reads: \", sum_mapping_quality / alignmentFile.count())\n",
    "\n",
    "print(\"Average mapping quality with filtering: \", sum_mapping_quality / (alignmentFile.count() - num_mapping_quality_zero))"
   ]
  },
  {
   "cell_type": "code",
   "execution_count": 3,
   "metadata": {},
   "outputs": [],
   "source": [
    "#close the file after finishing using it\n",
    "alignmentFile.close()"
   ]
  },
  {
   "cell_type": "code",
   "execution_count": null,
   "metadata": {},
   "outputs": [],
   "source": []
  }
 ],
 "metadata": {
  "kernelspec": {
   "display_name": "Python 3",
   "language": "python",
   "name": "python3"
  },
  "language_info": {
   "codemirror_mode": {
    "name": "ipython",
    "version": 3
   },
   "file_extension": ".py",
   "mimetype": "text/x-python",
   "name": "python",
   "nbconvert_exporter": "python",
   "pygments_lexer": "ipython3",
   "version": "3.6.3"
  }
 },
 "nbformat": 4,
 "nbformat_minor": 2
}
